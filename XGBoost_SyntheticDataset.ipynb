{
  "nbformat": 4,
  "nbformat_minor": 0,
  "metadata": {
    "colab": {
      "provenance": []
    },
    "kernelspec": {
      "name": "python3",
      "display_name": "Python 3"
    },
    "language_info": {
      "name": "python"
    }
  },
  "cells": [
    {
      "cell_type": "markdown",
      "source": [
        "Trying a synthetic dataset from https://xgboosting.com/xgboost-threshold-moving-for-imbalanced-classification/"
      ],
      "metadata": {
        "id": "hJXL6r49-mGP"
      }
    },
    {
      "cell_type": "code",
      "source": [
        "from sklearn.datasets import make_classification\n",
        "from sklearn.model_selection import train_test_split\n",
        "from xgboost import XGBClassifier\n",
        "from sklearn.metrics import confusion_matrix, classification_report, precision_recall_curve\n",
        "import numpy as np\n",
        "import matplotlib.pyplot as plt\n",
        "import seaborn as sns"
      ],
      "metadata": {
        "id": "1jFFCXhf-6yy"
      },
      "execution_count": null,
      "outputs": []
    },
    {
      "cell_type": "code",
      "execution_count": null,
      "metadata": {
        "colab": {
          "base_uri": "https://localhost:8080/"
        },
        "id": "GrdAh042-aoT",
        "outputId": "b7c919df-0143-4a50-864f-39286411d4a4"
      },
      "outputs": [
        {
          "output_type": "stream",
          "name": "stdout",
          "text": [
            "Optimal Threshold: 0.38\n",
            "Confusion Matrix:\n",
            "[[176   4]\n",
            " [  8  12]]\n",
            "\n",
            "Classification Report:\n",
            "              precision    recall  f1-score   support\n",
            "\n",
            "           0       0.96      0.98      0.97       180\n",
            "           1       0.75      0.60      0.67        20\n",
            "\n",
            "    accuracy                           0.94       200\n",
            "   macro avg       0.85      0.79      0.82       200\n",
            "weighted avg       0.94      0.94      0.94       200\n",
            "\n"
          ]
        }
      ],
      "source": [
        "# Generate an imbalanced synthetic binary classification dataset\n",
        "X, y = make_classification(n_samples=1000, n_classes=2, weights=[0.9, 0.1], random_state=42)\n",
        "\n",
        "# Split data into train and test sets\n",
        "X_train, X_test, y_train, y_test = train_test_split(X, y, test_size=0.2, random_state=42)\n",
        "\n",
        "# Train an XGBClassifier with scale_pos_weight to handle class imbalance\n",
        "model = XGBClassifier(scale_pos_weight=9, random_state=42)\n",
        "model.fit(X_train, y_train)\n",
        "\n",
        "# Get predicted probabilities for the test set\n",
        "y_pred_proba = model.predict_proba(X_test)[:, 1]\n",
        "\n",
        "# Define a function to calculate evaluation metrics for a given threshold\n",
        "def evaluate_threshold(y_true, y_pred_proba, threshold):\n",
        "    y_pred = (y_pred_proba >= threshold).astype(int)\n",
        "    precision, recall, _ = precision_recall_curve(y_true, y_pred) #precision_recall_curve() to compute precision, recall, and F1 at all internal thresholds derived automatically by scikit-learn.\n",
        "    f1 = 2 * (precision * recall) / (precision + recall + 1e-7)\n",
        "    balanced_accuracy = (recall[1] + recall[0]) / 2\n",
        "    return precision, recall, f1, balanced_accuracy\n",
        "\n",
        "# Evaluate the model's performance at different probability thresholds\n",
        "thresholds = np.arange(0.1, 1.0, 0.1)\n",
        "metrics = [evaluate_threshold(y_test, y_pred_proba, t) for t in thresholds]\n",
        "precision, recall, f1, balanced_accuracy = zip(*metrics)\n",
        "\n",
        "# Find the optimal probability threshold\n",
        "def find_optimal_threshold(y_true, y_pred_proba, metric='f1'):\n",
        "    thresholds = np.arange(0.1, 1.0, 0.01)\n",
        "    metrics = [evaluate_threshold(y_true, y_pred_proba, t) for t in thresholds]\n",
        "    if metric == 'f1':\n",
        "        idx = np.argmax([f1 for _, _, f1, _ in metrics])\n",
        "    elif metric == 'balanced_accuracy':\n",
        "        idx = np.argmax([ba for _, _, _, ba in metrics])\n",
        "    return thresholds[idx]\n",
        "\n",
        "optimal_threshold = find_optimal_threshold(y_test, y_pred_proba, metric='f1')\n",
        "\n",
        "# Generate final predictions using the optimal threshold\n",
        "y_pred = (y_pred_proba >= optimal_threshold).astype(int)\n",
        "\n",
        "# Evaluate the model with the optimal threshold\n",
        "print(f\"Optimal Threshold: {optimal_threshold:.2f}\")\n",
        "print(\"Confusion Matrix:\")\n",
        "print(confusion_matrix(y_test, y_pred))\n",
        "print(\"\\nClassification Report:\")\n",
        "print(classification_report(y_test, y_pred))"
      ]
    },
    {
      "cell_type": "markdown",
      "source": [],
      "metadata": {
        "id": "daaR89-8-juQ"
      }
    },
    {
      "cell_type": "code",
      "source": [
        "plt.figure(figsize =(8,6))\n",
        "cm = confusion_matrix(y_test, y_pred) #how often predicted labels match the true labels\n",
        "sns.heatmap(cm, annot = True, fmt = 'd', cmap = 'Blues') #format annotation\n",
        "plt.title('Confusion Matrix')\n",
        "plt.xlabel('Predicted Labels')\n",
        "plt.ylabel('True Labels')\n",
        "plt.show()"
      ],
      "metadata": {
        "colab": {
          "base_uri": "https://localhost:8080/",
          "height": 564
        },
        "id": "qQJuH0PH-f_B",
        "outputId": "5774034c-9ad0-41ec-bf2f-1136cc1f5ff7"
      },
      "execution_count": null,
      "outputs": [
        {
          "output_type": "display_data",
          "data": {
            "text/plain": [
              "<Figure size 800x600 with 2 Axes>"
            ],
            "image/png": "[encoded data removed]"
          },
          "metadata": {}
        }
      ]
    },
    {
      "cell_type": "code",
      "source": [],
      "metadata": {
        "id": "2zWsVC8Y-3dA"
      },
      "execution_count": null,
      "outputs": []
    }
  ]
}